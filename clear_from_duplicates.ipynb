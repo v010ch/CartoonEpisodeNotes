{
 "cells": [
  {
   "cell_type": "code",
   "execution_count": null,
   "id": "3eaef02a-56ad-4685-8263-3e62594e862f",
   "metadata": {},
   "outputs": [],
   "source": [
    "import os\n",
    "\n",
    "import numpy as np"
   ]
  },
  {
   "cell_type": "code",
   "execution_count": null,
   "id": "070a6907-5d6d-4ebe-9899-3460fa729f6a",
   "metadata": {},
   "outputs": [],
   "source": [
    "import cv2"
   ]
  },
  {
   "cell_type": "code",
   "execution_count": null,
   "id": "c5e54515-8da8-4e92-9178-85400e2d6651",
   "metadata": {},
   "outputs": [],
   "source": [
    "from itertools import combinations_with_replacement"
   ]
  },
  {
   "cell_type": "code",
   "execution_count": null,
   "id": "30a7ce63-a178-4e6a-a9f5-259f172f292e",
   "metadata": {},
   "outputs": [],
   "source": [
    "# hash\n",
    "# http://ceur-ws.org/Vol-2904/81.pdf"
   ]
  },
  {
   "cell_type": "code",
   "execution_count": null,
   "id": "b67ad263-4f24-4e17-afc9-f3dcc72dec84",
   "metadata": {},
   "outputs": [],
   "source": []
  },
  {
   "cell_type": "code",
   "execution_count": null,
   "id": "4fe16902-e39b-4620-9fd2-13d4e83e7734",
   "metadata": {},
   "outputs": [],
   "source": [
    "from lib.preparedata.framessimilaritycheck import resize_img, get_hists, get_uniques_imgs"
   ]
  },
  {
   "cell_type": "code",
   "execution_count": null,
   "id": "4d4d98ee-25b9-4089-bc10-c0bca6d439bc",
   "metadata": {},
   "outputs": [],
   "source": []
  },
  {
   "cell_type": "code",
   "execution_count": null,
   "id": "b73d9ed4-53ee-4cb2-bc9f-14e18e548aee",
   "metadata": {},
   "outputs": [],
   "source": [
    "CWD = os.path.join(os.getcwd(), 'res', 'duplicatedimages')"
   ]
  },
  {
   "cell_type": "code",
   "execution_count": null,
   "id": "382c2117-59f8-4a5b-a536-5b829040e7a8",
   "metadata": {},
   "outputs": [],
   "source": [
    "h = list()\n",
    "w = list()\n",
    "imagesinfolder = []\n",
    "\n",
    "for el in os.listdir(CWD):\n",
    "    if os.path.isdir(os.path.join(CWD, el)) or el.endswith('png'):\n",
    "        continue\n",
    "\n",
    "    imagesinfolder.append(os.path.join(CWD, el))\n",
    "    img = cv2.imread(os.path.join(CWD, el), cv2.IMREAD_UNCHANGED)\n",
    "    #print(type(img), img.shape, el)\n",
    "    h.append(img.shape[0])\n",
    "    w.append(img.shape[1])\n",
    "    "
   ]
  },
  {
   "cell_type": "code",
   "execution_count": null,
   "id": "670e8587-e5c2-48f5-ae10-d1249b8c64e3",
   "metadata": {},
   "outputs": [],
   "source": [
    "max(h), min(h)"
   ]
  },
  {
   "cell_type": "code",
   "execution_count": null,
   "id": "f2af4b68-afb9-479f-a99b-95611eabd204",
   "metadata": {},
   "outputs": [],
   "source": [
    "max(w), min(w)"
   ]
  },
  {
   "cell_type": "code",
   "execution_count": null,
   "id": "810d228e-9cce-42b5-b8a4-576ab7776ccb",
   "metadata": {},
   "outputs": [],
   "source": [
    "imagesinfolder"
   ]
  },
  {
   "cell_type": "code",
   "execution_count": null,
   "id": "32c83cf1-940c-4a85-831c-68e1dbbc1d82",
   "metadata": {},
   "outputs": [],
   "source": []
  },
  {
   "cell_type": "code",
   "execution_count": null,
   "id": "a072d336-6be3-466e-a6fe-4886eb9a7b36",
   "metadata": {},
   "outputs": [],
   "source": []
  },
  {
   "cell_type": "code",
   "execution_count": null,
   "id": "af9c01f5-af0a-4fec-a9a8-ac47d19c17b7",
   "metadata": {},
   "outputs": [],
   "source": []
  },
  {
   "cell_type": "code",
   "execution_count": null,
   "id": "5ebf322d-b1a0-4cac-96a7-1363681dcf3b",
   "metadata": {},
   "outputs": [],
   "source": [
    "unique_imgs, similars = get_uniques_imgs(CWD, 64, 64, 0.7)"
   ]
  },
  {
   "cell_type": "code",
   "execution_count": null,
   "id": "90eccfc8-8233-4216-a5e3-b984edd483f4",
   "metadata": {},
   "outputs": [],
   "source": [
    "unique_imgs.keys()"
   ]
  },
  {
   "cell_type": "code",
   "execution_count": null,
   "id": "1d04c7e0-c5d0-4bae-a1d6-54a41f4f66ea",
   "metadata": {},
   "outputs": [],
   "source": [
    "similars"
   ]
  },
  {
   "cell_type": "code",
   "execution_count": null,
   "id": "fb289a15-21a9-4bde-b981-fdfa9fc1ac5d",
   "metadata": {},
   "outputs": [],
   "source": [
    "for el in similars.keys():\n",
    "    for idx, pth in enumerate(similars[el]):\n",
    "        if idx > 0:\n",
    "            tmp_img = cv2.imread(os.path.join(CWD, pth))\n",
    "            tmp_img = resize_img(tmp_img, 256)\n",
    "            img = np.hstack((img, tmp_img))\n",
    "        else:\n",
    "            img = cv2.imread(os.path.join(CWD, pth))\n",
    "            img = resize_img(img, 256)\n",
    "        \n",
    "    cv2.imshow('similar', img)\n",
    "    cv2.waitKey(0)\n",
    "    cv2.destroyAllWindows()"
   ]
  },
  {
   "cell_type": "code",
   "execution_count": null,
   "id": "c2a73277-8d61-4725-bc0e-acaa01d45d59",
   "metadata": {},
   "outputs": [],
   "source": [
    "cv2.imshow('tt', img)\n",
    "cv2.waitKey(0)\n",
    "cv2.destroyAllWindows()"
   ]
  },
  {
   "cell_type": "code",
   "execution_count": null,
   "id": "fb66e023-e09e-40ed-826e-e26baa1aef9a",
   "metadata": {},
   "outputs": [],
   "source": []
  },
  {
   "cell_type": "code",
   "execution_count": null,
   "id": "51f92ebb-69ea-4dca-bc78-a8900ba33490",
   "metadata": {},
   "outputs": [],
   "source": []
  },
  {
   "cell_type": "code",
   "execution_count": null,
   "id": "bb52c6ca-59c3-47e5-93f1-ee51b4dfbe5e",
   "metadata": {},
   "outputs": [],
   "source": []
  },
  {
   "cell_type": "code",
   "execution_count": null,
   "id": "f9a3e978-8a5f-47bf-89ec-c343aaadd312",
   "metadata": {},
   "outputs": [],
   "source": []
  },
  {
   "cell_type": "code",
   "execution_count": null,
   "id": "3e0b888f-b563-480c-a930-3b30332227ed",
   "metadata": {},
   "outputs": [],
   "source": []
  },
  {
   "cell_type": "code",
   "execution_count": null,
   "id": "1a4033ea-de4e-4446-8629-f6015bf8ad5f",
   "metadata": {},
   "outputs": [],
   "source": [
    "def shifting():\n",
    "    h, w = img.shape[:2]\n",
    "    translation_matrix = np.float32([[1, 0, 200], [0, 1, 300]])\n",
    "    dst = cv2.warpAffine(img, translation_matrix, (w, h))\n",
    "    cv2.imshow('Изображение, сдвинутое вправо и вниз', dst)\n",
    "    cv2.waitKey(0)"
   ]
  },
  {
   "cell_type": "raw",
   "id": "1647232c-7986-4acb-a697-6ba302514717",
   "metadata": {},
   "source": [
    "Первая строка матрицы — [1, 0, tx ], где tx — количество пикселей, на которые мы будем сдвигать изображение влево или вправо. Отрицательное значения tx будет сдвигать изображение влево, положительное — вправо.\n",
    "Вторая строка матрицы — [ 0, 1, ty], где ty — количество пикселей, на которые мы будем сдвигать изображение вверх или вниз. Отрицательное значения ty будет сдвигать изображение вверх, положительное — вниз. Важно помнить, что данная матрица определяется как массив с плавающей точкой."
   ]
  },
  {
   "cell_type": "code",
   "execution_count": null,
   "id": "6535f392-8192-49e4-8b5e-a541518af984",
   "metadata": {},
   "outputs": [],
   "source": [
    "def rotation():\n",
    "    (h, w) = img.shape[:2]\n",
    "    center = (int(w / 2), int(h / 2))\n",
    "    rotation_matrix = cv2.getRotationMatrix2D(center, -45, 0.6)\n",
    "    rotated = cv2.warpAffine(img, rotation_matrix, (w, h))"
   ]
  },
  {
   "cell_type": "code",
   "execution_count": null,
   "id": "c110a5e6-9ffd-422a-b310-2544bfe75834",
   "metadata": {},
   "outputs": [],
   "source": []
  }
 ],
 "metadata": {
  "kernelspec": {
   "display_name": "Python 3",
   "language": "python",
   "name": "python3"
  },
  "language_info": {
   "codemirror_mode": {
    "name": "ipython",
    "version": 3
   },
   "file_extension": ".py",
   "mimetype": "text/x-python",
   "name": "python",
   "nbconvert_exporter": "python",
   "pygments_lexer": "ipython3",
   "version": "3.7.10"
  }
 },
 "nbformat": 4,
 "nbformat_minor": 5
}
